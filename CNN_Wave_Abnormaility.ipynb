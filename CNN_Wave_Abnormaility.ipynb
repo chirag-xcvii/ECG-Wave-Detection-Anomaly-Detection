{
  "nbformat": 4,
  "nbformat_minor": 0,
  "metadata": {
    "colab": {
      "provenance": [],
      "gpuType": "T4"
    },
    "kernelspec": {
      "name": "python3",
      "display_name": "Python 3"
    },
    "language_info": {
      "name": "python"
    },
    "accelerator": "GPU"
  },
  "cells": [
    {
      "cell_type": "code",
      "source": [
        "import os\n",
        "import cv2\n",
        "import numpy as np\n",
        "from sklearn.preprocessing import LabelEncoder\n",
        "\n",
        "def load_and_preprocess_images(data_dir, image_size=(224, 224)):\n",
        "    images = []\n",
        "    labels = []\n",
        "\n",
        "    class_labels = os.listdir(data_dir)\n",
        "    label_encoder = LabelEncoder()\n",
        "    label_encoder.fit(class_labels)\n",
        "\n",
        "    for label in class_labels:\n",
        "          class_path = os.path.join(data_dir, label)\n",
        "\n",
        "          for filename in os.listdir(class_path):\n",
        "              image_path = os.path.join(class_path, filename)\n",
        "\n",
        "              image = cv2.imread(image_path)\n",
        "              image = cv2.resize(image, image_size)\n",
        "              image = image / 255.0\n",
        "\n",
        "              images.append(image)\n",
        "              labels.append(label)\n",
        "\n",
        "    images = np.array(images)\n",
        "    labels = label_encoder.transform(labels)\n",
        "\n",
        "    return images, labels\n"
      ],
      "metadata": {
        "id": "LWjaiKOLPGXS"
      },
      "execution_count": null,
      "outputs": []
    },
    {
      "cell_type": "code",
      "source": [
        "from google.colab import drive\n",
        "drive.mount('/content/drive')"
      ],
      "metadata": {
        "colab": {
          "base_uri": "https://localhost:8080/"
        },
        "id": "f8CAHb1rsEeQ",
        "outputId": "2f5e3dbb-55e9-49b9-c071-5121f4338f90"
      },
      "execution_count": null,
      "outputs": [
        {
          "output_type": "stream",
          "name": "stdout",
          "text": [
            "Drive already mounted at /content/drive; to attempt to forcibly remount, call drive.mount(\"/content/drive\", force_remount=True).\n"
          ]
        }
      ]
    },
    {
      "cell_type": "code",
      "source": [
        "data_dir = \"/content/drive/MyDrive/Hearbeat_Data_Test(100)\"\n",
        "images, labels = load_and_preprocess_images(data_dir)"
      ],
      "metadata": {
        "id": "UCHWYtBcnIpD"
      },
      "execution_count": null,
      "outputs": []
    },
    {
      "cell_type": "code",
      "source": [
        "import tensorflow as tf\n",
        "from tensorflow.keras import layers, models, optimizers, callbacks\n",
        "from sklearn.model_selection import train_test_split\n",
        "\n",
        "X_train, X_test, y_train, y_test = train_test_split(images, labels, test_size=0.4, random_state=42)\n",
        "\n",
        "model = models.Sequential()\n",
        "\n",
        "model.add(layers.Conv2D(32, (3, 3), activation='relu', input_shape=(None, None, 3)))\n",
        "# model.add(layers.BatchNormalization())\n",
        "model.add(layers.MaxPooling2D((2, 2)))\n",
        "# model.add(layers.Dropout(0.2))\n",
        "\n",
        "model.add(layers.Conv2D(64, (3, 3), activation='relu'))\n",
        "# model.add(layers.BatchNormalization())\n",
        "model.add(layers.MaxPooling2D((2, 2)))\n",
        "# model.add(layers.Dropout(0.2))\n",
        "\n",
        "model.add(layers.Conv2D(128, (3, 3), activation='relu'))\n",
        "# model.add(layers.BatchNormalization())\n",
        "model.add(layers.MaxPooling2D((2, 2)))\n",
        "# model.add(layers.Dropout(0.2))\n",
        "\n",
        "# Global Average Pooling\n",
        "model.add(layers.GlobalMaxPooling2D())\n",
        "\n",
        "# Dense layers\n",
        "model.add(layers.Dense(32, activation='relu'))\n",
        "# model.add(layers.BatchNormalization())\n",
        "# model.add(layers.Dropout(0.5))\n",
        "model.add(layers.Dense(1, activation='sigmoid'))\n",
        "\n",
        "\n",
        "optimizer = optimizers.Adam(learning_rate=0.0005)\n",
        "model.compile(optimizer=optimizer,\n",
        "              loss='binary_crossentropy',\n",
        "              metrics=['accuracy'])\n",
        "\n",
        "model.summary()\n",
        "\n",
        "model.fit(X_train, y_train, epochs=15, batch_size=32, validation_split=0.3)\n",
        "test_loss, test_accuracy = model.evaluate(X_test, y_test)\n"
      ],
      "metadata": {
        "id": "VUqdTYaNPAs7"
      },
      "execution_count": null,
      "outputs": []
    },
    {
      "cell_type": "code",
      "source": [
        "model.save(\"Heartbeat-check-try1.h5\")"
      ],
      "metadata": {
        "colab": {
          "base_uri": "https://localhost:8080/"
        },
        "id": "bje1SGlBysDo",
        "outputId": "aff570a2-4b1a-48f8-c9fc-90ea10af5ad3"
      },
      "execution_count": null,
      "outputs": [
        {
          "output_type": "stream",
          "name": "stderr",
          "text": [
            "/usr/local/lib/python3.10/dist-packages/keras/src/engine/training.py:3103: UserWarning: You are saving your model as an HDF5 file via `model.save()`. This file format is considered legacy. We recommend using instead the native Keras format, e.g. `model.save('my_model.keras')`.\n",
            "  saving_api.save_model(\n"
          ]
        }
      ]
    },
    {
      "cell_type": "code",
      "source": [
        "model_json = model.to_json()\n",
        "with open(\"Heartbeat-check-try1\", \"w\") as json_file:\n",
        "    json_file.write(model_json)\n",
        "\n",
        "# Optionally, save only the learned weights to a file\n",
        "model.save_weights(\"Heartbeat-check-try1_weights.h5\")"
      ],
      "metadata": {
        "id": "2fCzClF8ysIy"
      },
      "execution_count": null,
      "outputs": []
    },
    {
      "cell_type": "code",
      "source": [
        "from tensorflow.keras.models import load_model\n",
        "loaded_model = load_model(\"Heartbeat-check-try1 (2).h5\")\n",
        "test_loss, test_accuracy = loaded_model.evaluate(images, labels)\n",
        "\n",
        "print(f\"Test Loss: {test_loss}\")\n",
        "print(f\"Test Accuracy: {test_accuracy}\")"
      ],
      "metadata": {
        "colab": {
          "base_uri": "https://localhost:8080/"
        },
        "id": "sKqXvo8S2GMM",
        "outputId": "8b79407f-eedb-4ac8-9b84-6fb1432db4ca"
      },
      "execution_count": null,
      "outputs": [
        {
          "output_type": "stream",
          "name": "stdout",
          "text": [
            "7/7 [==============================] - 4s 578ms/step - loss: 0.0426 - accuracy: 0.9800\n",
            "Test Loss: 0.042610734701156616\n",
            "Test Accuracy: 0.9800000190734863\n"
          ]
        }
      ]
    }
  ]
}